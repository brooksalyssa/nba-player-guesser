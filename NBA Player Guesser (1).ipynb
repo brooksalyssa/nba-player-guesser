{
 "cells": [
  {
   "cell_type": "code",
   "execution_count": 1,
   "id": "eba70f82-b65e-44dd-be7a-15c9bcfb86e9",
   "metadata": {},
   "outputs": [],
   "source": [
    "\n",
    "import pandas as pd\n",
    "import numpy as np\n",
    "import csv\n",
    "import random\n",
    "import os\n",
    "import matplotlib.pyplot as plt\n",
    "import seaborn\n",
    "from scipy import stats\n",
    "\n",
    "\n",
    "player_stats = pd.read_csv(\"Downloads/NBA Player Stats_2024-25_2.csv\")\n",
    "counts = player_stats.Rk.value_counts()\n",
    "player_stats_filtered = player_stats[(player_stats[\"MP\"] >= 10.5) & (player_stats[\"G\"] >= 20)]\n",
    "player_stats_filtered = player_stats_filtered[ ~ (player_stats_filtered.duplicated(subset = \"Rk\", keep = \"last\"))]\n",
    "\n",
    "\n",
    "teams = [\"TOR\", \"PHI\", \"BOS\", \"NYK\", \"BRK\", \"CHI\", \"CLE\", \"IND\", \"DET\", \"MIL\", \"ATL\", \"CHO\", \"ORL\", \"WAS\", \"MIA\", \"DEN\", \"MIN\", \"POR\", \"OKC\", \"UTA\", \"GSW\", \"LAC\", \"LAL\", \"SAC\", \"PHO\", \"MEM\", \"SAS\", \"HOU\", \"DAL\", \"NOP\"]\n",
    "conference_check = lambda x: \"East\" if x in teams[0:15] else \"West\"\n",
    "division_check = lambda x : \"Atlantic\" if x in teams[0:5] else (\"Central\" if x in teams[5:10] else (\"Southeast\" if x in teams[10:15] else( \"Northwest\" if x in teams[15:20] else( \"Pacific\" if x in teams[20:25] else \"Southwest\"))))\n",
    "\n",
    "player_stats_filtered[\"Conference\"] = player_stats_filtered.Team.apply(conference_check)\n",
    "player_stats_filtered[\"Division\"] = player_stats_filtered.Team.apply(division_check)\n",
    "player_stats_filtered[\"3P%\"] = player_stats_filtered[\"3P%\"] * 100\n",
    "player_stats_filtered[\"FG%\"] = player_stats_filtered[\"FG%\"] * 100\n",
    "player_stats_filtered[\"2P%\"] = player_stats_filtered[\"2P%\"] * 100\n",
    "player_stats_filtered[\"eFG%\"] = player_stats_filtered[\"eFG%\"] * 100\n",
    "player_stats_filtered[\"FT%\"] = player_stats_filtered[\"FT%\"] * 100\n",
    "player_stats_filtered[\"3P%\"] = player_stats_filtered[\"3P%\"].replace(np.NaN, 0)\n",
    "\n",
    "\n",
    "number_of_guesses_list = []"
   ]
  },
  {
   "cell_type": "code",
   "execution_count": 15,
   "id": "42c24ec8-6481-493c-92d3-349777b18adb",
   "metadata": {},
   "outputs": [],
   "source": [
    "def poeltl_game(data):\n",
    "    index = random.randint(1, len(data))\n",
    "    correct_player = data.iloc[index].Player\n",
    "    guesses_left = 8\n",
    "    hints_left = 3\n",
    "    guesses_took = 1\n",
    "        \n",
    "    def mpg(player):\n",
    "        df = data[data[\"Player\"] == player]\n",
    "        percentile = stats.percentileofscore(data[\"MP\"], df.MP.iloc[0])\n",
    "        rounded_percentile = round(percentile)\n",
    "        print(\"The correct player's minutes per game is equal to or greater than \" + str(rounded_percentile) + \"% of all NBA players.\")\n",
    "    \n",
    "    def assists(player):\n",
    "        plt.scatter(x = data.AST, y = data.TOV)\n",
    "        plt.xlabel(\"Average Assists\")\n",
    "        plt.ylabel(\"Average Turnover\")\n",
    "        plt.title(\"Average Assists vs. Average Turnover for Every NBA Player\")\n",
    "        df = data[data[\"Player\"] == player]\n",
    "        plt.scatter(df.AST, df.TOV, color = 'red')\n",
    "        plt.show()\n",
    "        plt.close()\n",
    "        print(\"The scatterplot above shows the average assists and average turnovers for every player in the 2024 - 2025 season. Each dot represents one player and the correct player and their assists/turnover statistics. The correct player is in red!\")\n",
    "    \n",
    "    def ppg(player):\n",
    "        df = data[data[\"Player\"] == player]\n",
    "        n, bins, patches = plt.hist(x = data[\"PTS\"], edgecolor = \"gray\", bins = np.arange(0, data.PTS.max() + 5, 5))\n",
    "        plt.xlabel(\"Average Points Per Game\")\n",
    "        plt.ylabel(\"Number of Players\")\n",
    "        plt.title(\"Average Points per Game in 2024 - 2025\")\n",
    "        for i in range(len(patches)):\n",
    "            if bins[i] <= df.PTS.iloc[0] < bins[i+1] :\n",
    "                patches[i].set_facecolor(\"lightblue\")\n",
    "        plt.show()\n",
    "        plt.close()\n",
    "        print(\"The graph above shows how many players fall into each points per game range. The range the correct player's points per game falls in is highlighted in light blue!\")\n",
    "    \n",
    "    def threes(player):\n",
    "        df = data[data[\"Player\"] == player]\n",
    "        percentile = stats.percentileofscore(data[\"3P%\"], df[\"3P%\"].iloc[0])\n",
    "        rounded_percentile = round(percentile)\n",
    "        print(\"The correct player's three point percentage is equal to or greater than \" + str(rounded_percentile) + \"% of all NBA players.\")\n",
    "\n",
    "    hint_pool = [mpg, ppg, threes, assists]\n",
    "    \n",
    "    print('''Welcome to the Poetl Game!\\nYou have eight chances to guess the NBA player we're thinking of.\n",
    "    \\nStart by guessing a player.\n",
    "    \\nIf the player is correct, you win!\n",
    "    \\nIf not, we'll tell you if your guess' team, conference, division, position, or age are correct.\n",
    "    \\nYou also have three hints to help you narrow down your guesses. If you'd like to use one, type in \"hint\".\n",
    "    \\nGood luck!''')\n",
    "\n",
    "    \n",
    "    for i in range(0, 100):\n",
    "        if guesses_left == 0:\n",
    "            guesses_took = 8\n",
    "            number_of_guesses_list.append(guesses_took)\n",
    "            break\n",
    "            \n",
    "        user_guess = str(input(\"Guesses remaining: \" + str(guesses_left) + \". Please make your guess.\"))\n",
    "        \n",
    "        if user_guess == \"hint\":\n",
    "            if hints_left == 0:\n",
    "                print(\"Sorry, you have no more hints left. Please make a guess.\")\n",
    "            else:\n",
    "                hints_left -= 1\n",
    "                hint = random.choice(hint_pool)\n",
    "                hint(correct_player)\n",
    "                hint_pool.remove(hint)\n",
    "\n",
    "        elif user_guess not in data[\"Player\"].values:\n",
    "            print(\"Your guess didn't play significant games or minutes in the 2024 - 2025 NBA season. Try again!\")\n",
    "            \n",
    "                        \n",
    "        else:\n",
    "            if user_guess == correct_player:\n",
    "                print(\"You win! You guessed correctly!\")\n",
    "                number_of_guesses_list.append(guesses_took)\n",
    "                break\n",
    "            else:\n",
    "                print(\"Your guess is wrong.\")\n",
    "                \n",
    "                attributes = [\"Team\", \"Conference\", \"Division\", \"Pos\", \"Age\"]\n",
    "\n",
    "                guess_row = data.loc[data[\"Player\"].str.lower() == user_guess.lower()].iloc[0]\n",
    "                correct_row = data.loc[data[\"Player\"] == correct_player].iloc[0]\n",
    "                \n",
    "                guess_stats = []\n",
    "                \n",
    "                for attr in attributes:\n",
    "                    if guess_row[attr] == correct_row[attr]:\n",
    "                        guess_stats.append(attr + \": \" + str(correct_row[attr]))\n",
    "                \n",
    "                print(\"But your guess and the correct player have these attributes in common: \" + str(guess_stats))\n",
    "                guesses_left -= 1\n",
    "                guesses_took += 1\n",
    "                \n",
    "                \n",
    "    print( \"The correct player was \" + correct_player)\n",
    "    for guess in number_of_guesses_list:\n",
    "        if guess > 8:\n",
    "            number_of_guesses_list.remove(guess)\n",
    "            \n",
    "    guesses_took_by_round = pd.DataFrame({\"Guesses Took\" : number_of_guesses_list})\n",
    "    seaborn.countplot(x = \"Guesses Took\", data = guesses_took_by_round, order = range(1, 9))\n",
    "    plt.title(\"Guess Distribution\")\n",
    "    plt.show()\n",
    "\n"
   ]
  },
  {
   "cell_type": "code",
   "execution_count": null,
   "id": "6f13c829-774a-408b-a5a1-41af8ed3a07a",
   "metadata": {},
   "outputs": [
    {
     "name": "stdout",
     "output_type": "stream",
     "text": [
      "Welcome to the Poetl Game!\n",
      "You have eight chances to guess the NBA player we're thinking of.\n",
      "    \n",
      "Start by guessing a player.\n",
      "    \n",
      "If the player is correct, you win!\n",
      "    \n",
      "If not, we'll tell you if your guess' team, conference, division, position, or age are correct.\n",
      "    \n",
      "You also have three hints to help you narrow down your guesses. If you'd like to use one, type in \"hint\".\n",
      "    \n",
      "Good luck!\n"
     ]
    },
    {
     "name": "stdin",
     "output_type": "stream",
     "text": [
      "Guesses remaining: 8. Please make your guess. trae young\n"
     ]
    },
    {
     "name": "stdout",
     "output_type": "stream",
     "text": [
      "Your guess didn't play significant games or minutes in the 2024 - 2025 NBA season. Try again!\n"
     ]
    },
    {
     "name": "stdin",
     "output_type": "stream",
     "text": [
      "Guesses remaining: 8. Please make your guess. Trae Young\n"
     ]
    },
    {
     "name": "stdout",
     "output_type": "stream",
     "text": [
      "Your guess is wrong.\n",
      "But your guess and the correct player have these attributes in common: ['Conference: East']\n"
     ]
    },
    {
     "name": "stdin",
     "output_type": "stream",
     "text": [
      "Guesses remaining: 7. Please make your guess. Myles Turner\n"
     ]
    },
    {
     "name": "stdout",
     "output_type": "stream",
     "text": [
      "Your guess is wrong.\n",
      "But your guess and the correct player have these attributes in common: ['Conference: East', 'Pos: C']\n"
     ]
    },
    {
     "name": "stdin",
     "output_type": "stream",
     "text": [
      "Guesses remaining: 6. Please make your guess. Scottie Barnes\n"
     ]
    },
    {
     "name": "stdout",
     "output_type": "stream",
     "text": [
      "Your guess is wrong.\n",
      "But your guess and the correct player have these attributes in common: ['Conference: East', 'Division: Atlantic']\n"
     ]
    },
    {
     "name": "stdin",
     "output_type": "stream",
     "text": [
      "Guesses remaining: 5. Please make your guess. Nic Claxton\n"
     ]
    },
    {
     "name": "stdout",
     "output_type": "stream",
     "text": [
      "Your guess is wrong.\n",
      "But your guess and the correct player have these attributes in common: ['Conference: East', 'Division: Atlantic', 'Pos: C', 'Age: 25']\n"
     ]
    },
    {
     "name": "stdin",
     "output_type": "stream",
     "text": [
      "Guesses remaining: 4. Please make your guess. Mitchell Robinson\n"
     ]
    },
    {
     "name": "stdout",
     "output_type": "stream",
     "text": [
      "Your guess didn't play significant games or minutes in the 2024 - 2025 NBA season. Try again!\n"
     ]
    },
    {
     "name": "stdin",
     "output_type": "stream",
     "text": [
      "Guesses remaining: 4. Please make your guess. Adem Bona\n"
     ]
    },
    {
     "name": "stdout",
     "output_type": "stream",
     "text": [
      "Your guess is wrong.\n",
      "But your guess and the correct player have these attributes in common: ['Conference: East', 'Division: Atlantic', 'Pos: C']\n"
     ]
    }
   ],
   "source": [
    "print(poeltl_game(player_stats_filtered))"
   ]
  },
  {
   "cell_type": "code",
   "execution_count": 364,
   "id": "d962f2b9-fac0-47f0-be59-a2c6a9baa149",
   "metadata": {},
   "outputs": [
    {
     "name": "stdout",
     "output_type": "stream",
     "text": [
      "26\n",
      "23\n",
      "Trae Young\n",
      "26\n",
      "ATL\n",
      "PG\n",
      "76\n",
      "76\n",
      "36.0\n",
      "7.4\n",
      "18.1\n",
      "0.411\n",
      "2.9\n",
      "8.4\n",
      "0.34\n",
      "4.6\n",
      "9.7\n",
      "0.474\n",
      "0.491\n",
      "6.5\n",
      "7.4\n",
      "0.875\n",
      "0.5\n",
      "2.6\n",
      "3.1\n",
      "11.6\n",
      "1.2\n",
      "0.2\n",
      "4.7\n",
      "1.9\n",
      "24.2\n",
      "East\n",
      "Southeast\n"
     ]
    }
   ],
   "source": [
    "\n",
    "        \n",
    "        "
   ]
  },
  {
   "cell_type": "code",
   "execution_count": 841,
   "id": "2450d20e-979b-48bf-bc9b-0b014119e0b1",
   "metadata": {},
   "outputs": [
    {
     "ename": "NameError",
     "evalue": "name 'guess_stats' is not defined",
     "output_type": "error",
     "traceback": [
      "\u001b[0;31m---------------------------------------------------------------------------\u001b[0m",
      "\u001b[0;31mNameError\u001b[0m                                 Traceback (most recent call last)",
      "Cell \u001b[0;32mIn[841], line 1\u001b[0m\n\u001b[0;32m----> 1\u001b[0m similarity_score \u001b[38;5;241m=\u001b[39m (\u001b[38;5;28mlen\u001b[39m(guess_stats)\u001b[38;5;241m/\u001b[39m\u001b[38;5;241m5\u001b[39m) \u001b[38;5;241m*\u001b[39m \u001b[38;5;241m100\u001b[39m\n",
      "\u001b[0;31mNameError\u001b[0m: name 'guess_stats' is not defined"
     ]
    }
   ],
   "source": [
    "similarity_score = (len(guess_stats)/5) * 100"
   ]
  },
  {
   "cell_type": "code",
   "execution_count": 348,
   "id": "fb8623f7-c6ed-45b5-8f69-1e99809abfca",
   "metadata": {},
   "outputs": [
    {
     "name": "stdout",
     "output_type": "stream",
     "text": [
      "     index   Rk              Player  Age Team Pos   G  GS    MP   FG  ...  \\\n",
      "22      26   23          Trae Young   26  ATL  PG  76  76  36.0  7.4  ...   \n",
      "56      66   59       Jalen Johnson   23  ATL  SF  36  36  35.7  7.5  ...   \n",
      "105    125  108       Dyson Daniels   21  ATL  SG  76  76  33.8  6.0  ...   \n",
      "114    136  119      Onyeka Okongwu   24  ATL   C  74  40  27.9  5.2  ...   \n",
      "126    153  131  Zaccharie Risacher   19  ATL  SF  75  73  24.6  4.8  ...   \n",
      "137    166  142        Caris LeVert   30  ATL  SG  26   0  26.6  5.6  ...   \n",
      "185    230  194       Georges Niang   31  ATL  PF  28   2  23.0  4.3  ...   \n",
      "220    276  230        Clint Capela   30  ATL   C  55  41  21.4  4.0  ...   \n",
      "239    300  250     Larry Nance Jr.   32  ATL  PF  24   3  19.3  3.3  ...   \n",
      "255    329  269        Terance Mann   28  ATL  SG  30   1  22.7  3.9  ...   \n",
      "259    336  274    Garrison Mathews   28  ATL  SG  47   2  17.7  2.2  ...   \n",
      "270    351  287          Vit Krejci   24  ATL  PG  57  16  20.2  2.5  ...   \n",
      "314    427  341      Mouhamed Gueye   22  ATL  PF  33  28  16.2  2.2  ...   \n",
      "335    463  367      Keaton Wallace   25  ATL  PG  31   5  16.2  2.1  ...   \n",
      "351    502  390         David Roddy   23  ATL  PF  27   3  12.8  1.6  ...   \n",
      "369    537  413     Dominick Barlow   21  ATL  SF  35   4  10.7  1.7  ...   \n",
      "\n",
      "     DRB   TRB   AST  STL  BLK  TOV   PF   PTS  Conference   Division  \n",
      "22   2.6   3.1  11.6  1.2  0.2  4.7  1.9  24.2        East  Southeast  \n",
      "56   8.3  10.0   5.0  1.6  1.0  2.9  1.9  18.9        East  Southeast  \n",
      "105  4.3   5.9   4.4  3.0  0.7  2.0  2.3  14.1        East  Southeast  \n",
      "114  5.9   8.9   2.3  0.9  0.9  1.2  2.6  13.4        East  Southeast  \n",
      "126  2.4   3.6   1.2  0.7  0.5  1.2  2.0  12.6        East  Southeast  \n",
      "137  3.0   3.7   2.9  0.9  0.5  1.0  2.0  14.9        East  Southeast  \n",
      "185  2.5   3.0   1.6  0.4  0.3  1.2  2.6  12.1        East  Southeast  \n",
      "220  5.4   8.5   1.1  0.6  1.0  0.9  1.9   8.9        East  Southeast  \n",
      "239  3.3   4.3   1.6  0.8  0.5  0.7  1.5   8.5        East  Southeast  \n",
      "255  1.9   3.1   2.1  0.6  0.1  0.7  2.0   9.8        East  Southeast  \n",
      "259  1.6   1.9   1.3  0.6  0.3  0.7  1.7   7.5        East  Southeast  \n",
      "270  2.4   2.7   2.6  0.6  0.5  0.9  1.8   7.2        East  Southeast  \n",
      "314  2.9   4.2   0.8  0.8  1.0  0.5  1.7   6.0        East  Southeast  \n",
      "335  1.4   1.6   2.6  0.9  0.3  1.1  1.3   5.4        East  Southeast  \n",
      "351  2.2   2.6   1.1  0.4  0.3  0.7  0.7   4.5        East  Southeast  \n",
      "369  1.4   2.4   0.5  0.3  0.5  0.1  1.3   4.2        East  Southeast  \n",
      "\n",
      "[16 rows x 33 columns]\n"
     ]
    }
   ],
   "source": []
  },
  {
   "cell_type": "code",
   "execution_count": 304,
   "id": "caf7a7b2-60f2-4a03-bf98-280daf06b54c",
   "metadata": {},
   "outputs": [
    {
     "name": "stdout",
     "output_type": "stream",
     "text": [
      "131\n"
     ]
    }
   ],
   "source": []
  },
  {
   "cell_type": "code",
   "execution_count": 401,
   "id": "b7ddda58-04a5-4bd0-8584-a85c92738cca",
   "metadata": {},
   "outputs": [
    {
     "name": "stdout",
     "output_type": "stream",
     "text": [
      "     index   Rk              Player  Age Team Pos   G  GS    MP   FG  ...  \\\n",
      "146    178  152       Corey Kispert   25  WAS  SF  61   0  26.3  4.2  ...   \n",
      "148    180  154      Toumani Camara   24  POR  PF  78  78  32.7  4.2  ...   \n",
      "149    181  155  Isaiah Hartenstein   26  OKC   C  57  53  27.9  4.9  ...   \n",
      "\n",
      "     DRB   TRB  AST  STL  BLK  TOV   PF   PTS  Conference   Division  \n",
      "146  2.4   3.0  1.7  0.4  0.2  1.0  1.6  11.6        East  Southeast  \n",
      "148  3.6   5.8  2.2  1.5  0.6  1.4  2.9  11.3        West  Northwest  \n",
      "149  7.9  10.7  3.8  0.8  1.1  1.7  3.0  11.2        West  Northwest  \n",
      "\n",
      "[3 rows x 33 columns]\n"
     ]
    }
   ],
   "source": []
  },
  {
   "cell_type": "code",
   "execution_count": 405,
   "id": "e7eb3df2-60f2-48c6-8759-2006f36036a6",
   "metadata": {},
   "outputs": [
    {
     "name": "stdout",
     "output_type": "stream",
     "text": [
      "     index   Rk              Player  Age Team Pos   G  GS    MP   FG  ...  \\\n",
      "22      26   23          Trae Young   26  ATL  PG  76  76  36.0  7.4  ...   \n",
      "56      66   59       Jalen Johnson   23  ATL  SF  36  36  35.7  7.5  ...   \n",
      "105    125  108       Dyson Daniels   21  ATL  SG  76  76  33.8  6.0  ...   \n",
      "114    136  119      Onyeka Okongwu   24  ATL   C  74  40  27.9  5.2  ...   \n",
      "126    153  131  Zaccharie Risacher   19  ATL  SF  75  73  24.6  4.8  ...   \n",
      "137    166  142        Caris LeVert   30  ATL  SG  26   0  26.6  5.6  ...   \n",
      "185    230  194       Georges Niang   31  ATL  PF  28   2  23.0  4.3  ...   \n",
      "220    276  230        Clint Capela   30  ATL   C  55  41  21.4  4.0  ...   \n",
      "239    300  250     Larry Nance Jr.   32  ATL  PF  24   3  19.3  3.3  ...   \n",
      "255    329  269        Terance Mann   28  ATL  SG  30   1  22.7  3.9  ...   \n",
      "259    336  274    Garrison Mathews   28  ATL  SG  47   2  17.7  2.2  ...   \n",
      "270    351  287          Vit Krejci   24  ATL  PG  57  16  20.2  2.5  ...   \n",
      "314    427  341      Mouhamed Gueye   22  ATL  PF  33  28  16.2  2.2  ...   \n",
      "335    463  367      Keaton Wallace   25  ATL  PG  31   5  16.2  2.1  ...   \n",
      "351    502  390         David Roddy   23  ATL  PF  27   3  12.8  1.6  ...   \n",
      "369    537  413     Dominick Barlow   21  ATL  SF  35   4  10.7  1.7  ...   \n",
      "\n",
      "     DRB   TRB   AST  STL  BLK  TOV   PF   PTS  Conference   Division  \n",
      "22   2.6   3.1  11.6  1.2  0.2  4.7  1.9  24.2        East  Southeast  \n",
      "56   8.3  10.0   5.0  1.6  1.0  2.9  1.9  18.9        East  Southeast  \n",
      "105  4.3   5.9   4.4  3.0  0.7  2.0  2.3  14.1        East  Southeast  \n",
      "114  5.9   8.9   2.3  0.9  0.9  1.2  2.6  13.4        East  Southeast  \n",
      "126  2.4   3.6   1.2  0.7  0.5  1.2  2.0  12.6        East  Southeast  \n",
      "137  3.0   3.7   2.9  0.9  0.5  1.0  2.0  14.9        East  Southeast  \n",
      "185  2.5   3.0   1.6  0.4  0.3  1.2  2.6  12.1        East  Southeast  \n",
      "220  5.4   8.5   1.1  0.6  1.0  0.9  1.9   8.9        East  Southeast  \n",
      "239  3.3   4.3   1.6  0.8  0.5  0.7  1.5   8.5        East  Southeast  \n",
      "255  1.9   3.1   2.1  0.6  0.1  0.7  2.0   9.8        East  Southeast  \n",
      "259  1.6   1.9   1.3  0.6  0.3  0.7  1.7   7.5        East  Southeast  \n",
      "270  2.4   2.7   2.6  0.6  0.5  0.9  1.8   7.2        East  Southeast  \n",
      "314  2.9   4.2   0.8  0.8  1.0  0.5  1.7   6.0        East  Southeast  \n",
      "335  1.4   1.6   2.6  0.9  0.3  1.1  1.3   5.4        East  Southeast  \n",
      "351  2.2   2.6   1.1  0.4  0.3  0.7  0.7   4.5        East  Southeast  \n",
      "369  1.4   2.4   0.5  0.3  0.5  0.1  1.3   4.2        East  Southeast  \n",
      "\n",
      "[16 rows x 33 columns]\n"
     ]
    }
   ],
   "source": []
  },
  {
   "cell_type": "code",
   "execution_count": 837,
   "id": "5d60f2b9-6718-4573-bb3b-1a1934b53652",
   "metadata": {},
   "outputs": [
    {
     "name": "stdout",
     "output_type": "stream",
     "text": [
      "Empty DataFrame\n",
      "Columns: [Rk, Player, Age, Team, Pos, G, GS, MP, FG, FGA, FG%, 3P, 3PA, 3P%, 2P, 2PA, 2P%, eFG%, FT, FTA, FT%, ORB, DRB, TRB, AST, STL, BLK, TOV, PF, PTS, Conference, Division]\n",
      "Index: []\n",
      "Empty DataFrame\n",
      "Columns: [Rk, Player, Age, Team, Pos, G, GS, MP, FG, FGA, FG%, 3P, 3PA, 3P%, 2P, 2PA, 2P%, eFG%, FT, FTA, FT%, ORB, DRB, TRB, AST, STL, BLK, TOV, PF, PTS, Conference, Division]\n",
      "Index: []\n",
      "Empty DataFrame\n",
      "Columns: [Rk, Player, Age, Team, Pos, G, GS, MP, FG, FGA, FG%, 3P, 3PA, 3P%, 2P, 2PA, 2P%, eFG%, FT, FTA, FT%, ORB, DRB, TRB, AST, STL, BLK, TOV, PF, PTS, Conference, Division]\n",
      "Index: []\n",
      "Empty DataFrame\n",
      "Columns: [Rk, Player, Age, Team, Pos, G, GS, MP, FG, FGA, FG%, 3P, 3PA, 3P%, 2P, 2PA, 2P%, eFG%, FT, FTA, FT%, ORB, DRB, TRB, AST, STL, BLK, TOV, PF, PTS, Conference, Division]\n",
      "Index: []\n",
      "Empty DataFrame\n",
      "Columns: [Rk, Player, Age, Team, Pos, G, GS, MP, FG, FGA, FG%, 3P, 3PA, 3P%, 2P, 2PA, 2P%, eFG%, FT, FTA, FT%, ORB, DRB, TRB, AST, STL, BLK, TOV, PF, PTS, Conference, Division]\n",
      "Index: []\n",
      "Empty DataFrame\n",
      "Columns: [Rk, Player, Age, Team, Pos, G, GS, MP, FG, FGA, FG%, 3P, 3PA, 3P%, 2P, 2PA, 2P%, eFG%, FT, FTA, FT%, ORB, DRB, TRB, AST, STL, BLK, TOV, PF, PTS, Conference, Division]\n",
      "Index: []\n",
      "Empty DataFrame\n",
      "Columns: [Rk, Player, Age, Team, Pos, G, GS, MP, FG, FGA, FG%, 3P, 3PA, 3P%, 2P, 2PA, 2P%, eFG%, FT, FTA, FT%, ORB, DRB, TRB, AST, STL, BLK, TOV, PF, PTS, Conference, Division]\n",
      "Index: []\n",
      "Empty DataFrame\n",
      "Columns: [Rk, Player, Age, Team, Pos, G, GS, MP, FG, FGA, FG%, 3P, 3PA, 3P%, 2P, 2PA, 2P%, eFG%, FT, FTA, FT%, ORB, DRB, TRB, AST, STL, BLK, TOV, PF, PTS, Conference, Division]\n",
      "Index: []\n",
      "Empty DataFrame\n",
      "Columns: [Rk, Player, Age, Team, Pos, G, GS, MP, FG, FGA, FG%, 3P, 3PA, 3P%, 2P, 2PA, 2P%, eFG%, FT, FTA, FT%, ORB, DRB, TRB, AST, STL, BLK, TOV, PF, PTS, Conference, Division]\n",
      "Index: []\n",
      "Empty DataFrame\n",
      "Columns: [Rk, Player, Age, Team, Pos, G, GS, MP, FG, FGA, FG%, 3P, 3PA, 3P%, 2P, 2PA, 2P%, eFG%, FT, FTA, FT%, ORB, DRB, TRB, AST, STL, BLK, TOV, PF, PTS, Conference, Division]\n",
      "Index: []\n",
      "Empty DataFrame\n",
      "Columns: [Rk, Player, Age, Team, Pos, G, GS, MP, FG, FGA, FG%, 3P, 3PA, 3P%, 2P, 2PA, 2P%, eFG%, FT, FTA, FT%, ORB, DRB, TRB, AST, STL, BLK, TOV, PF, PTS, Conference, Division]\n",
      "Index: []\n",
      "Empty DataFrame\n",
      "Columns: [Rk, Player, Age, Team, Pos, G, GS, MP, FG, FGA, FG%, 3P, 3PA, 3P%, 2P, 2PA, 2P%, eFG%, FT, FTA, FT%, ORB, DRB, TRB, AST, STL, BLK, TOV, PF, PTS, Conference, Division]\n",
      "Index: []\n",
      "Empty DataFrame\n",
      "Columns: [Rk, Player, Age, Team, Pos, G, GS, MP, FG, FGA, FG%, 3P, 3PA, 3P%, 2P, 2PA, 2P%, eFG%, FT, FTA, FT%, ORB, DRB, TRB, AST, STL, BLK, TOV, PF, PTS, Conference, Division]\n",
      "Index: []\n",
      "Empty DataFrame\n",
      "Columns: [Rk, Player, Age, Team, Pos, G, GS, MP, FG, FGA, FG%, 3P, 3PA, 3P%, 2P, 2PA, 2P%, eFG%, FT, FTA, FT%, ORB, DRB, TRB, AST, STL, BLK, TOV, PF, PTS, Conference, Division]\n",
      "Index: []\n",
      "Empty DataFrame\n",
      "Columns: [Rk, Player, Age, Team, Pos, G, GS, MP, FG, FGA, FG%, 3P, 3PA, 3P%, 2P, 2PA, 2P%, eFG%, FT, FTA, FT%, ORB, DRB, TRB, AST, STL, BLK, TOV, PF, PTS, Conference, Division]\n",
      "Index: []\n",
      "Empty DataFrame\n",
      "Columns: [Rk, Player, Age, Team, Pos, G, GS, MP, FG, FGA, FG%, 3P, 3PA, 3P%, 2P, 2PA, 2P%, eFG%, FT, FTA, FT%, ORB, DRB, TRB, AST, STL, BLK, TOV, PF, PTS, Conference, Division]\n",
      "Index: []\n",
      "Empty DataFrame\n",
      "Columns: [Rk, Player, Age, Team, Pos, G, GS, MP, FG, FGA, FG%, 3P, 3PA, 3P%, 2P, 2PA, 2P%, eFG%, FT, FTA, FT%, ORB, DRB, TRB, AST, STL, BLK, TOV, PF, PTS, Conference, Division]\n",
      "Index: []\n",
      "Empty DataFrame\n",
      "Columns: [Rk, Player, Age, Team, Pos, G, GS, MP, FG, FGA, FG%, 3P, 3PA, 3P%, 2P, 2PA, 2P%, eFG%, FT, FTA, FT%, ORB, DRB, TRB, AST, STL, BLK, TOV, PF, PTS, Conference, Division]\n",
      "Index: []\n",
      "Empty DataFrame\n",
      "Columns: [Rk, Player, Age, Team, Pos, G, GS, MP, FG, FGA, FG%, 3P, 3PA, 3P%, 2P, 2PA, 2P%, eFG%, FT, FTA, FT%, ORB, DRB, TRB, AST, STL, BLK, TOV, PF, PTS, Conference, Division]\n",
      "Index: []\n",
      "Empty DataFrame\n",
      "Columns: [Rk, Player, Age, Team, Pos, G, GS, MP, FG, FGA, FG%, 3P, 3PA, 3P%, 2P, 2PA, 2P%, eFG%, FT, FTA, FT%, ORB, DRB, TRB, AST, STL, BLK, TOV, PF, PTS, Conference, Division]\n",
      "Index: []\n",
      "Empty DataFrame\n",
      "Columns: [Rk, Player, Age, Team, Pos, G, GS, MP, FG, FGA, FG%, 3P, 3PA, 3P%, 2P, 2PA, 2P%, eFG%, FT, FTA, FT%, ORB, DRB, TRB, AST, STL, BLK, TOV, PF, PTS, Conference, Division]\n",
      "Index: []\n",
      "Empty DataFrame\n",
      "Columns: [Rk, Player, Age, Team, Pos, G, GS, MP, FG, FGA, FG%, 3P, 3PA, 3P%, 2P, 2PA, 2P%, eFG%, FT, FTA, FT%, ORB, DRB, TRB, AST, STL, BLK, TOV, PF, PTS, Conference, Division]\n",
      "Index: []\n",
      "Empty DataFrame\n",
      "Columns: [Rk, Player, Age, Team, Pos, G, GS, MP, FG, FGA, FG%, 3P, 3PA, 3P%, 2P, 2PA, 2P%, eFG%, FT, FTA, FT%, ORB, DRB, TRB, AST, STL, BLK, TOV, PF, PTS, Conference, Division]\n",
      "Index: []\n",
      "Empty DataFrame\n",
      "Columns: [Rk, Player, Age, Team, Pos, G, GS, MP, FG, FGA, FG%, 3P, 3PA, 3P%, 2P, 2PA, 2P%, eFG%, FT, FTA, FT%, ORB, DRB, TRB, AST, STL, BLK, TOV, PF, PTS, Conference, Division]\n",
      "Index: []\n",
      "Empty DataFrame\n",
      "Columns: [Rk, Player, Age, Team, Pos, G, GS, MP, FG, FGA, FG%, 3P, 3PA, 3P%, 2P, 2PA, 2P%, eFG%, FT, FTA, FT%, ORB, DRB, TRB, AST, STL, BLK, TOV, PF, PTS, Conference, Division]\n",
      "Index: []\n",
      "Empty DataFrame\n",
      "Columns: [Rk, Player, Age, Team, Pos, G, GS, MP, FG, FGA, FG%, 3P, 3PA, 3P%, 2P, 2PA, 2P%, eFG%, FT, FTA, FT%, ORB, DRB, TRB, AST, STL, BLK, TOV, PF, PTS, Conference, Division]\n",
      "Index: []\n",
      "Empty DataFrame\n",
      "Columns: [Rk, Player, Age, Team, Pos, G, GS, MP, FG, FGA, FG%, 3P, 3PA, 3P%, 2P, 2PA, 2P%, eFG%, FT, FTA, FT%, ORB, DRB, TRB, AST, STL, BLK, TOV, PF, PTS, Conference, Division]\n",
      "Index: []\n",
      "Empty DataFrame\n",
      "Columns: [Rk, Player, Age, Team, Pos, G, GS, MP, FG, FGA, FG%, 3P, 3PA, 3P%, 2P, 2PA, 2P%, eFG%, FT, FTA, FT%, ORB, DRB, TRB, AST, STL, BLK, TOV, PF, PTS, Conference, Division]\n",
      "Index: []\n",
      "Empty DataFrame\n",
      "Columns: [Rk, Player, Age, Team, Pos, G, GS, MP, FG, FGA, FG%, 3P, 3PA, 3P%, 2P, 2PA, 2P%, eFG%, FT, FTA, FT%, ORB, DRB, TRB, AST, STL, BLK, TOV, PF, PTS, Conference, Division]\n",
      "Index: []\n",
      "Empty DataFrame\n",
      "Columns: [Rk, Player, Age, Team, Pos, G, GS, MP, FG, FGA, FG%, 3P, 3PA, 3P%, 2P, 2PA, 2P%, eFG%, FT, FTA, FT%, ORB, DRB, TRB, AST, STL, BLK, TOV, PF, PTS, Conference, Division]\n",
      "Index: []\n",
      "Empty DataFrame\n",
      "Columns: [Rk, Player, Age, Team, Pos, G, GS, MP, FG, FGA, FG%, 3P, 3PA, 3P%, 2P, 2PA, 2P%, eFG%, FT, FTA, FT%, ORB, DRB, TRB, AST, STL, BLK, TOV, PF, PTS, Conference, Division]\n",
      "Index: []\n",
      "Empty DataFrame\n",
      "Columns: [Rk, Player, Age, Team, Pos, G, GS, MP, FG, FGA, FG%, 3P, 3PA, 3P%, 2P, 2PA, 2P%, eFG%, FT, FTA, FT%, ORB, DRB, TRB, AST, STL, BLK, TOV, PF, PTS, Conference, Division]\n",
      "Index: []\n"
     ]
    }
   ],
   "source": []
  },
  {
   "cell_type": "code",
   "execution_count": 745,
   "id": "33965d0c-f90e-481d-bc95-46f02dc6e6c0",
   "metadata": {},
   "outputs": [
    {
     "name": "stdout",
     "output_type": "stream",
     "text": [
      "169    0.0\n",
      "Name: 3P%, dtype: float64\n"
     ]
    }
   ],
   "source": []
  },
  {
   "cell_type": "code",
   "execution_count": 533,
   "id": "b88d0262-b13e-4e49-8def-4454ba5d4823",
   "metadata": {},
   "outputs": [
    {
     "data": {
      "image/png": "[encoded data removed]",
      "text/plain": [
       "<Figure size 640x480 with 1 Axes>"
      ]
     },
     "metadata": {},
     "output_type": "display_data"
    }
   ],
   "source": [
    "\n"
   ]
  },
  {
   "cell_type": "code",
   "execution_count": 757,
   "id": "37422d06-aaf3-40c9-8b0a-716eaf6e9b39",
   "metadata": {},
   "outputs": [
    {
     "name": "stdout",
     "output_type": "stream",
     "text": [
      "The correct player's three point percentage is equal to or greater than 41% of all NBA players.\n",
      "None\n",
      "41.358024691358025\n"
     ]
    }
   ],
   "source": [
    "\n",
    "\n"
   ]
  },
  {
   "cell_type": "code",
   "execution_count": 621,
   "id": "0f2819ae-5c29-468b-93e3-55c306f851b9",
   "metadata": {},
   "outputs": [
    {
     "name": "stdout",
     "output_type": "stream",
     "text": [
      "True False\n"
     ]
    }
   ],
   "source": []
  },
  {
   "cell_type": "code",
   "execution_count": null,
   "id": "e38537dc-5be0-498b-9f62-1bd760237708",
   "metadata": {},
   "outputs": [],
   "source": []
  }
 ],
 "metadata": {
  "kernelspec": {
   "display_name": "Python [conda env:base] *",
   "language": "python",
   "name": "conda-base-py"
  },
  "language_info": {
   "codemirror_mode": {
    "name": "ipython",
    "version": 3
   },
   "file_extension": ".py",
   "mimetype": "text/x-python",
   "name": "python",
   "nbconvert_exporter": "python",
   "pygments_lexer": "ipython3",
   "version": "3.12.7"
  }
 },
 "nbformat": 4,
 "nbformat_minor": 5
}
